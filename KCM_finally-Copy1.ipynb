{
 "cells": [
  {
   "cell_type": "code",
   "execution_count": 1,
   "metadata": {},
   "outputs": [],
   "source": [
    "#import所需套件\n",
    "#pip install firebase-admin google-cloud-firestore\n",
    "#pip install firebase google-cloud-firestore\n",
    "#from firebase import firebase\n",
    "import json;\n",
    "import requests;\n",
    "import datetime\n",
    "import string\n",
    "import sqlite3\n",
    "from collections import defaultdict"
   ]
  },
  {
   "cell_type": "code",
   "execution_count": 2,
   "metadata": {},
   "outputs": [],
   "source": [
    "#輸出json串流,json.loads()用於將str型別的資料轉成dict\n",
    "def readjson(url):\n",
    "    #python終端機是Linux系統,window執行會是cp950,所以要轉utf-8\n",
    "    response = json.load(open(url,encoding=\"utf-8\"))\n",
    "    '''\n",
    "    print(response)#輸出\n",
    "    print(type(response)) \n",
    "    print (response['494255'])\n",
    "    '''\n",
    "    return response\n",
    "#檢查是否全是中文字符\n",
    "def is_all_chinese(strs):\n",
    "    for _char in strs:\n",
    "        if not '\\u4e00' <= _char <= '\\u9fa5':\n",
    "            return False\n",
    "    return True\n",
    "#判斷是否為需要的詞\n",
    "def isneed(a,b):\n",
    "    if(('n' in b or 'x' in b) and len(a)>1 and is_all_chinese(a) and 'eng' not in b and a not in punc and a not in punc2 and not a.isdigit()):\n",
    "        return True\n",
    "    else:\n",
    "        return False"
   ]
  },
  {
   "cell_type": "code",
   "execution_count": 3,
   "metadata": {},
   "outputs": [],
   "source": [
    "#宣告全域變數\n",
    "key_val = defaultdict(defaultdict)#宣告主要字典存放資料\n",
    "key_val2 = defaultdict(defaultdict)#宣告主要字典存放資料\n",
    "L = []#宣告陣列暫存資料\n",
    "punc='！”＃＄％＆’（）、＊＋，－。／：；＜＝＞？＠〔＼〕︿ˍ‘｛｜｝～ ';#標點符號(全形)+空白\n",
    "punc2=string.punctuation;#標點符號(半形)+空白\n",
    "sentence_count=0#句數\n",
    "starttime = datetime.datetime.now()#起始時間"
   ]
  },
  {
   "cell_type": "code",
   "execution_count": null,
   "metadata": {},
   "outputs": [],
   "source": [
    "#第一個檔案Posseg_List9.json\n",
    "response=readjson('Posseg_List0.json')\n",
    "for key in response.keys():\n",
    "    for key2 in response.get(key):\n",
    "        x = key2.split(\"/\", 1)\n",
    "        #判斷詞性為名詞與過濾詞\n",
    "        if(isneed(x[0],x[1])):\n",
    "            #print('%s' % (x[0]))\n",
    "            L.append(x[0])\n",
    "            #key_val[x[0]] = 0\n",
    "    L2 = L.copy()\n",
    "    nowstep=0\n",
    "    for i in range(0,len(L),1):\n",
    "        for j in range(0,len(L2),1):\n",
    "            if len(L2)>j+nowstep:\n",
    "                #print(L[i],L2[j+nowstep])\n",
    "                if L[i]!=L2[j+nowstep]:\n",
    "                    try:\n",
    "                        key_val[L[i]][L2[j+nowstep]]=key_val[L[i]][L2[j+nowstep]]+1\n",
    "                    except:\n",
    "                        key_val[L[i]][L2[j+nowstep]]=1\n",
    "        nowstep=nowstep+1\n",
    "    L=[]#清空\n",
    "    L2=[]#清空\n",
    "    #print('--'*30)\n",
    "    #sentence_count=sentence_count+1\n",
    "    #print('第 %d句'%(sentence_count))\n",
    "#print(sentence_count)\n",
    "#print(key_val)\n",
    "print(\"end\")\n",
    "endtime = datetime.datetime.now()\n",
    "print (endtime - starttime)"
   ]
  },
  {
   "cell_type": "code",
   "execution_count": null,
   "metadata": {},
   "outputs": [],
   "source": [
    "import sqlite3\n",
    "#連接db(不存在自動創建)\n",
    "conn=sqlite3.connect('D:\\webapps\\kvm\\kcm4.db');\n",
    "#sql字串\n",
    "sql_create='''create  table if not exists mykcm(\n",
    "id integer primary key autoincrement not null,\n",
    "mykey1 text,\n",
    "mykey2 text,\n",
    "number int\n",
    ");''';\n",
    "#新增資料表==========\n",
    "conn.execute(sql_create);\n",
    "print(\"資料表新增成功\");"
   ]
  },
  {
   "cell_type": "code",
   "execution_count": null,
   "metadata": {},
   "outputs": [],
   "source": [
    "import sqlite3\n",
    "#連接db(不存在自動創建)\n",
    "conn=sqlite3.connect('D:\\webapps\\kvm\\kcm4.db');\n",
    "for key in key_val.keys():\n",
    "    for key2 in key_val.get(key):\n",
    "        conn.execute(\"insert into mykcm(mykey1,mykey2,number)values('%s','%s','%d')\"%((key),(key2),(key_val[key][key2])))\n",
    "print(\"sql start\");\n",
    "conn.commit()\n",
    "conn.close;\n",
    "print(\"sql end\");"
   ]
  },
  {
   "cell_type": "code",
   "execution_count": null,
   "metadata": {},
   "outputs": [],
   "source": []
  },
  {
   "cell_type": "code",
   "execution_count": null,
   "metadata": {},
   "outputs": [],
   "source": []
  },
  {
   "cell_type": "code",
   "execution_count": null,
   "metadata": {},
   "outputs": [],
   "source": []
  }
 ],
 "metadata": {
  "kernelspec": {
   "display_name": "Python 3",
   "language": "python",
   "name": "python3"
  },
  "language_info": {
   "codemirror_mode": {
    "name": "ipython",
    "version": 3
   },
   "file_extension": ".py",
   "mimetype": "text/x-python",
   "name": "python",
   "nbconvert_exporter": "python",
   "pygments_lexer": "ipython3",
   "version": "3.7.3"
  }
 },
 "nbformat": 4,
 "nbformat_minor": 2
}
