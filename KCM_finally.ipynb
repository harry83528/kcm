{
 "cells": [
  {
   "cell_type": "code",
   "execution_count": 1,
   "metadata": {},
   "outputs": [],
   "source": [
    "#import所需套件\n",
    "#pip install firebase-admin google-cloud-firestore\n",
    "#pip install firebase google-cloud-firestore\n",
    "#from firebase import firebase\n",
    "import json;\n",
    "import requests;\n",
    "import datetime#觀察程式執行時間\n",
    "import string#判斷標題符號所需\n",
    "import sqlite3#資料庫\n",
    "from collections import defaultdict"
   ]
  },
  {
   "cell_type": "code",
   "execution_count": 2,
   "metadata": {},
   "outputs": [],
   "source": [
    "#輸出json串流,json.loads()用於將str型別的資料轉成dict\n",
    "def readjson(url):\n",
    "    #python終端機是Linux系統,window執行會是cp950,所以要轉utf-8\n",
    "    response = json.load(open(url,encoding=\"utf-8\"))\n",
    "    '''\n",
    "    print(response)#輸出\n",
    "    print(type(response)) \n",
    "    print (response['494255'])\n",
    "    '''\n",
    "    return response\n",
    "#檢查是否全是中文字符\n",
    "def is_all_chinese(strs):\n",
    "    for _char in strs:\n",
    "        if not '\\u4e00' <= _char <= '\\u9fa5':\n",
    "            return False\n",
    "    return True\n",
    "#判斷是否為需要的詞\n",
    "def isneed(a,b):\n",
    "    if(('n' in b or ('x' in b and len(a)>1) ) and is_all_chinese(a) and 'eng' not in b and a not in punc and a not in punc2 and not a.isdigit()):\n",
    "        return True\n",
    "    else:\n",
    "        return False"
   ]
  },
  {
   "cell_type": "code",
   "execution_count": 3,
   "metadata": {},
   "outputs": [],
   "source": [
    "#宣告全域變數\n",
    "key_val = defaultdict(defaultdict)#宣告主要字典存放資料\n",
    "L = []#宣告陣列暫存資料\n",
    "punc='！”＃＄％＆’（）、＊＋，－。／：；＜＝＞？＠〔＼〕︿ˍ‘｛｜｝～ ';#標點符號(全形)+空白\n",
    "punc2=string.punctuation;#標點符號(半形)+空白\n",
    "sentence_count=0#句數\n",
    "starttime = datetime.datetime.now()#起始時間"
   ]
  },
  {
   "cell_type": "code",
   "execution_count": 4,
   "metadata": {},
   "outputs": [
    {
     "name": "stdout",
     "output_type": "stream",
     "text": [
      "defaultdict(<class 'collections.defaultdict'>, {'南蘆屋濱': defaultdict(None, {'收費站': 5, '南蘆屋浜': 2, '本線料': 2, '金所': 2, '位於': 2, '兵庫縣': 2, '蘆屋': 2, '市': 2, '阪神': 2, '岸線': 2, '六甲': 2, '方向': 2}), '收費站': defaultdict(None, {'南蘆屋濱': 1, '南蘆屋浜': 1, '本線料': 1, '金所': 1, '位於': 1, '兵庫縣': 1, '蘆屋': 1, '市': 1, '阪神': 1, '岸線': 1, '六甲': 3, '方向': 3}), '南蘆屋浜': defaultdict(None, {'本線料': 1, '金所': 1, '位於': 1, '兵庫縣': 1, '蘆屋': 1, '市': 1, '阪神': 1, '岸線': 1, '收費站': 2, '六甲': 1, '方向': 1}), '本線料': defaultdict(None, {'金所': 1, '位於': 1, '兵庫縣': 1, '蘆屋': 1, '市': 1, '阪神': 1, '岸線': 1, '收費站': 2, '六甲': 1, '方向': 1}), '金所': defaultdict(None, {'位於': 1, '兵庫縣': 1, '蘆屋': 1, '市': 1, '阪神': 1, '岸線': 1, '收費站': 2, '六甲': 1, '方向': 1}), '位於': defaultdict(None, {'兵庫縣': 1, '蘆屋': 1, '市': 1, '阪神': 1, '岸線': 1, '收費站': 2, '六甲': 1, '方向': 1, '該國': 1, '屬於': 1, '伏爾塔瓦河': 1, '支流': 1, '由姆': 1, '熱河': 1, '和拉': 1, '德布': 1, '扎河': 1, '匯流': 1, '河道': 1, '全長': 1, '流域面積': 1, '河': 1, '獨木舟': 1, '熱門': 1, '地點': 1, '銀經': 1, '銀緯': 1, '座標': 1, '赤緯': 1}), '兵庫縣': defaultdict(None, {'蘆屋': 1, '市': 1, '阪神': 1, '岸線': 1, '收費站': 2, '六甲': 1, '方向': 1}), '蘆屋': defaultdict(None, {'市': 1, '阪神': 1, '岸線': 1, '收費站': 2, '六甲': 1, '方向': 1}), '市': defaultdict(None, {'阪神': 1, '岸線': 1, '收費站': 2, '六甲': 1, '方向': 1}), '阪神': defaultdict(None, {'岸線': 1, '收費站': 2, '六甲': 1, '方向': 1}), '岸線': defaultdict(None, {'收費站': 2, '六甲': 1, '方向': 1}), '六甲': defaultdict(None, {'方向': 1}), '貝龍': defaultdict(None, {'卡河': 3, '捷克': 2, '河流': 2, '位於': 2, '該國': 2, '屬於': 2, '伏爾塔瓦河': 2, '支流': 2, '由姆': 2, '熱河': 2, '和拉': 2, '德布': 2, '扎河': 2, '匯流': 2, '河道': 2, '全長': 2, '流域面積': 2, '河': 2, '獨木舟': 2, '熱門': 2, '地點': 2}), '卡河': defaultdict(None, {'貝龍': 1, '捷克': 2, '河流': 2, '位於': 2, '該國': 2, '屬於': 2, '伏爾塔瓦河': 2, '支流': 2, '由姆': 2, '熱河': 2, '和拉': 2, '德布': 2, '扎河': 2, '匯流': 2, '河道': 2, '全長': 2, '流域面積': 2, '河': 2, '獨木舟': 2, '熱門': 2, '地點': 2}), '捷克': defaultdict(None, {'河流': 1, '位於': 1, '該國': 1, '屬於': 1, '伏爾塔瓦河': 1, '支流': 1, '由姆': 1, '熱河': 1, '和拉': 1, '德布': 1, '扎河': 1, '匯流': 1, '河道': 1, '全長': 1, '流域面積': 1, '河': 1, '獨木舟': 1, '熱門': 1, '地點': 1}), '河流': defaultdict(None, {'位於': 1, '該國': 1, '屬於': 1, '伏爾塔瓦河': 1, '支流': 1, '由姆': 1, '熱河': 1, '和拉': 1, '德布': 1, '扎河': 1, '匯流': 1, '河道': 1, '全長': 1, '流域面積': 1, '河': 1, '獨木舟': 1, '熱門': 1, '地點': 1}), '該國': defaultdict(None, {'屬於': 1, '伏爾塔瓦河': 1, '支流': 1, '由姆': 1, '熱河': 1, '和拉': 1, '德布': 1, '扎河': 1, '匯流': 1, '河道': 1, '全長': 1, '流域面積': 1, '河': 1, '獨木舟': 1, '熱門': 1, '地點': 1}), '屬於': defaultdict(None, {'伏爾塔瓦河': 1, '支流': 1, '由姆': 1, '熱河': 1, '和拉': 1, '德布': 1, '扎河': 1, '匯流': 1, '河道': 1, '全長': 1, '流域面積': 1, '河': 1, '獨木舟': 1, '熱門': 1, '地點': 1}), '伏爾塔瓦河': defaultdict(None, {'支流': 1, '由姆': 1, '熱河': 1, '和拉': 1, '德布': 1, '扎河': 1, '匯流': 1, '河道': 1, '全長': 1, '流域面積': 1, '河': 1, '獨木舟': 1, '熱門': 1, '地點': 1}), '支流': defaultdict(None, {'由姆': 1, '熱河': 1, '和拉': 1, '德布': 1, '扎河': 1, '匯流': 1, '河道': 1, '全長': 1, '流域面積': 1, '河': 1, '獨木舟': 1, '熱門': 1, '地點': 1}), '由姆': defaultdict(None, {'熱河': 1, '和拉': 1, '德布': 1, '扎河': 1, '匯流': 1, '河道': 1, '全長': 1, '流域面積': 1, '河': 1, '獨木舟': 1, '熱門': 1, '地點': 1}), '熱河': defaultdict(None, {'和拉': 1, '德布': 1, '扎河': 1, '匯流': 1, '河道': 1, '全長': 1, '流域面積': 1, '河': 1, '獨木舟': 1, '熱門': 1, '地點': 1}), '和拉': defaultdict(None, {'德布': 1, '扎河': 1, '匯流': 1, '河道': 1, '全長': 1, '流域面積': 1, '河': 1, '獨木舟': 1, '熱門': 1, '地點': 1}), '德布': defaultdict(None, {'扎河': 1, '匯流': 1, '河道': 1, '全長': 1, '流域面積': 1, '河': 1, '獨木舟': 1, '熱門': 1, '地點': 1}), '扎河': defaultdict(None, {'匯流': 1, '河道': 1, '全長': 1, '流域面積': 1, '河': 1, '獨木舟': 1, '熱門': 1, '地點': 1}), '匯流': defaultdict(None, {'河道': 1, '全長': 1, '流域面積': 1, '河': 1, '獨木舟': 1, '熱門': 1, '地點': 1}), '河道': defaultdict(None, {'全長': 1, '流域面積': 1, '河': 1, '獨木舟': 1, '熱門': 1, '地點': 1}), '全長': defaultdict(None, {'流域面積': 1, '河': 1, '獨木舟': 1, '熱門': 1, '地點': 1}), '流域面積': defaultdict(None, {'河': 1, '獨木舟': 1, '熱門': 1, '地點': 1}), '河': defaultdict(None, {'獨木舟': 1, '熱門': 1, '地點': 1}), '獨木舟': defaultdict(None, {'熱門': 1, '地點': 1}), '熱門': defaultdict(None, {'地點': 1}), '又名': defaultdict(None, {'一顆': 1, '恆星': 1, '視星等': 1, '位於': 1, '銀經': 1, '銀緯': 1, '座標': 1, '赤緯': 1}), '一顆': defaultdict(None, {'恆星': 1, '視星等': 1, '位於': 1, '銀經': 1, '銀緯': 1, '座標': 1, '赤緯': 1}), '恆星': defaultdict(None, {'視星等': 1, '位於': 1, '銀經': 1, '銀緯': 1, '座標': 1, '赤緯': 1}), '視星等': defaultdict(None, {'位於': 1, '銀經': 1, '銀緯': 1, '座標': 1, '赤緯': 1}), '銀經': defaultdict(None, {'銀緯': 1, '座標': 1, '赤緯': 1}), '銀緯': defaultdict(None, {'座標': 1, '赤緯': 1}), '座標': defaultdict(None, {'赤緯': 1})})\n",
      "end\n",
      "0:00:00.336924\n"
     ]
    }
   ],
   "source": [
    "#第一個檔案Posseg_List9.json\n",
    "response=readjson('test.json')\n",
    "for key in response.keys():\n",
    "    for key2 in response.get(key):\n",
    "        x = key2.split(\"/\", 1)\n",
    "        #判斷詞性為名詞與過濾詞\n",
    "        if(isneed(x[0],x[1])):\n",
    "            #print('%s' % (x[0]))\n",
    "            L.append(x[0])\n",
    "            #key_val[x[0]] = 0\n",
    "    L2 = L.copy()\n",
    "    nowstep=0\n",
    "    for i in range(0,len(L),1):\n",
    "        for j in range(0,len(L2),1):\n",
    "            if len(L2)>j+nowstep:\n",
    "                #print(L[i],L2[j+nowstep])\n",
    "                if L[i]!=L2[j+nowstep]:\n",
    "                    try:\n",
    "                        key_val[L[i]][L2[j+nowstep]]=key_val[L[i]][L2[j+nowstep]]+1\n",
    "                    except:#寧願發生錯誤也不去判斷有沒有存在key(效能有差)\n",
    "                        key_val[L[i]][L2[j+nowstep]]=1\n",
    "        nowstep=nowstep+1\n",
    "    L=[]#清空\n",
    "    L2=[]#清空\n",
    "    #print('--'*30)\n",
    "    #sentence_count=sentence_count+1\n",
    "    #print('第 %d句'%(sentence_count))\n",
    "#print(sentence_count)\n",
    "print(key_val)\n",
    "print(\"end\")\n",
    "endtime = datetime.datetime.now()\n",
    "print (endtime - starttime)"
   ]
  },
  {
   "cell_type": "code",
   "execution_count": null,
   "metadata": {},
   "outputs": [],
   "source": [
    "'''\n",
    "#序列化(serialization)檔案\n",
    "import pickle\n",
    "dic_txt = key_val\n",
    "pickle.dumps(dic_txt)\n",
    "f = open('dump.txt', 'wb')\n",
    "pickle.dump(dic_txt, f)\n",
    "f.close()\n",
    "'''"
   ]
  },
  {
   "cell_type": "code",
   "execution_count": null,
   "metadata": {},
   "outputs": [],
   "source": [
    "'''\n",
    "#序列化檔案\n",
    "import pickle\n",
    "dic_txt = key_val\n",
    "pickle.dumps(dic_txt)\n",
    "f = open('dump.txt', 'wb')\n",
    "pickle.dump(dic_txt, f)\n",
    "f.close()\n",
    "'''"
   ]
  },
  {
   "cell_type": "code",
   "execution_count": null,
   "metadata": {},
   "outputs": [],
   "source": [
    "'''\n",
    "import sqlite3\n",
    "#連接db(不存在自動創建)\n",
    "conn=sqlite3.connect('D:\\webapps\\kvm\\kcm2.db');\n",
    "#sql字串\n",
    "sql_create='''create  table if not exists mykcm(\n",
    "id integer primary key autoincrement not null,\n",
    "mykey1 text,\n",
    "mykey2 text,\n",
    "number int\n",
    ");''';\n",
    "#新增資料表==========\n",
    "#conn.execute(sql_create);\n",
    "print(\"資料表新增成功\");\n",
    "\n",
    "'''"
   ]
  },
  {
   "cell_type": "code",
   "execution_count": 6,
   "metadata": {},
   "outputs": [
    {
     "data": {
      "text/plain": [
       "'\\nimport sqlite3\\n#連接db(不存在自動創建)\\nconn=sqlite3.connect(\\'D:\\\\webapps\\\\kvm\\\\kcm.db\\');\\nfor key in key_val.keys():\\n    for key2 in key_val.get(key):\\n        conn.execute(\"insert into mykcm(mykey1,mykey2,number)values(\\'%s\\',\\'%s\\',\\'%d\\')\"%((key),(key2),(key_val[key][key2])))\\nprint(\"sql start\");\\n#全部insert讀到記憶體再一次commit,connction只開一次\\n#conn.commit()\\nconn.close;\\nprint(\"sql end\");\\n'"
      ]
     },
     "execution_count": 6,
     "metadata": {},
     "output_type": "execute_result"
    }
   ],
   "source": [
    "'''\n",
    "import sqlite3\n",
    "#連接db(不存在自動創建)\n",
    "conn=sqlite3.connect('D:\\webapps\\kvm\\kcm2.db');\n",
    "for key in key_val.keys():\n",
    "    for key2 in key_val.get(key):\n",
    "        conn.execute(\"insert into mykcm(mykey1,mykey2,number)values('%s','%s','%d')\"%((key),(key2),(key_val[key][key2])))\n",
    "print(\"sql start\");\n",
    "#全部insert讀到記憶體再一次commit,connction只開一次\n",
    "#conn.commit()\n",
    "conn.close;\n",
    "print(\"sql end\");\n",
    "'''"
   ]
  },
  {
   "cell_type": "code",
   "execution_count": null,
   "metadata": {},
   "outputs": [],
   "source": []
  }
 ],
 "metadata": {
  "kernelspec": {
   "display_name": "Python 3",
   "language": "python",
   "name": "python3"
  },
  "language_info": {
   "codemirror_mode": {
    "name": "ipython",
    "version": 3
   },
   "file_extension": ".py",
   "mimetype": "text/x-python",
   "name": "python",
   "nbconvert_exporter": "python",
   "pygments_lexer": "ipython3",
   "version": "3.7.3"
  }
 },
 "nbformat": 4,
 "nbformat_minor": 2
}
