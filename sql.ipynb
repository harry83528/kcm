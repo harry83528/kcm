{
 "cells": [
  {
   "cell_type": "code",
   "execution_count": null,
   "metadata": {},
   "outputs": [],
   "source": [
    "#新增資料表===========\n",
    "import sqlite3\n",
    "#連接db(不存在自動創建)\n",
    "conn=sqlite3.connect('D:\\webapps\\kvm\\kcm2.db');\n",
    "#sql字串\n",
    "sql_create='''create  table if not exists mykcm(\n",
    "id integer primary key autoincrement not null,\n",
    "mykey1 text,\n",
    "mykey2 text,\n",
    "number int\n",
    ");''';\n",
    "#新增資料表==========\n",
    "#conn.execute(sql_create);\n",
    "print(\"資料表新增成功\");"
   ]
  },
  {
   "cell_type": "code",
   "execution_count": null,
   "metadata": {},
   "outputs": [],
   "source": [
    "#新增資料===========\n",
    "import sqlite3\n",
    "#連接db(不存在自動創建)\n",
    "conn=sqlite3.connect('D:\\webapps\\kvm\\kcm4.db');\n",
    "for key in key_val.keys():\n",
    "    for key2 in key_val.get(key):\n",
    "        conn.execute(\"insert into mykcm(mykey1,mykey2,number)values('%s','%s','%d')\"%((key),(key2),(key_val[key][key2])))\n",
    "print(\"sql start\");\n",
    "#conn.commit()\n",
    "conn.close;\n",
    "print(\"sql end\");"
   ]
  },
  {
   "cell_type": "code",
   "execution_count": 1,
   "metadata": {},
   "outputs": [
    {
     "name": "stdout",
     "output_type": "stream",
     "text": [
      "資料查詢成功\n",
      "0:00:42.495204\n"
     ]
    }
   ],
   "source": [
    "#查詢資料===========\n",
    "import datetime\n",
    "import sqlite3\n",
    "starttime = datetime.datetime.now()#起始時間\n",
    "#連接db(不存在自動創建)\n",
    "conn=sqlite3.connect('D:\\webapps\\kvm\\kcm2.db');\n",
    "sql_select=\"select mykey1,mykey2,number from mykcm where mykey1='陳水扁' order by number desc limit 10\";\n",
    "sql_select2=\"select mykey2 from mykcm where mykey1='馬英九' order by number desc limit 10\";\n",
    "cursor=conn.execute(sql_select2);\n",
    "indexs=1\n",
    "for row in cursor:\n",
    "    #print(\"index:\",row[0]);\n",
    "    #print(\"mykey1:\",row[1]);\n",
    "    #print(\"mykey2:\",row[2]);\n",
    "    print(\"第 %d 名: %s\" %(indexs,row[0]));\n",
    "    #print(\"number:\",row[3]);\n",
    "    indexs=indexs+1\n",
    "    print('---'*30);\n",
    "conn.close;\n",
    "endtime = datetime.datetime.now()\n",
    "print(\"資料查詢成功\");\n",
    "print (endtime - starttime)"
   ]
  },
  {
   "cell_type": "code",
   "execution_count": 5,
   "metadata": {},
   "outputs": [
    {
     "name": "stdout",
     "output_type": "stream",
     "text": [
      "資料刪除成功\n"
     ]
    }
   ],
   "source": [
    "#刪除資料===========\n",
    "import sqlite3\n",
    "#連接db(不存在自動創建)\n",
    "conn=sqlite3.connect('D:\\webapps\\kvm\\kcm2.db');\n",
    "sql_delete=\"delete from mykcm where number=1\";\n",
    "\n",
    "#conn.execute(sql_delete);\n",
    "#conn.commit();\n",
    "#conn.close;\n",
    "#print(\"資料刪除成功\");"
   ]
  }
 ],
 "metadata": {
  "kernelspec": {
   "display_name": "Python 3",
   "language": "python",
   "name": "python3"
  },
  "language_info": {
   "codemirror_mode": {
    "name": "ipython",
    "version": 3
   },
   "file_extension": ".py",
   "mimetype": "text/x-python",
   "name": "python",
   "nbconvert_exporter": "python",
   "pygments_lexer": "ipython3",
   "version": "3.7.3"
  }
 },
 "nbformat": 4,
 "nbformat_minor": 2
}
