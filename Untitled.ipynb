{
 "cells": [
  {
   "cell_type": "code",
   "execution_count": null,
   "metadata": {},
   "outputs": [],
   "source": [
    "#新增資料表===========\n",
    "import sqlite3\n",
    "#連接db(不存在自動創建)\n",
    "conn=sqlite3.connect('D:\\webapps\\kvm\\kcm2.db');\n",
    "#sql字串\n",
    "sql_create='''create  table if not exists mykcm(\n",
    "id integer primary key autoincrement not null,\n",
    "mykey1 text,\n",
    "mykey2 text,\n",
    "number int\n",
    ");''';\n",
    "#新增資料表==========\n",
    "#conn.execute(sql_create);\n",
    "print(\"資料表新增成功\");"
   ]
  },
  {
   "cell_type": "code",
   "execution_count": null,
   "metadata": {},
   "outputs": [],
   "source": [
    "#新增資料===========\n",
    "import sqlite3\n",
    "#連接db(不存在自動創建)\n",
    "conn=sqlite3.connect('D:\\webapps\\kvm\\kcm4.db');\n",
    "for key in key_val.keys():\n",
    "    for key2 in key_val.get(key):\n",
    "        conn.execute(\"insert into mykcm(mykey1,mykey2,number)values('%s','%s','%d')\"%((key),(key2),(key_val[key][key2])))\n",
    "print(\"sql start\");\n",
    "#conn.commit()\n",
    "conn.close;\n",
    "print(\"sql end\");"
   ]
  },
  {
   "cell_type": "code",
   "execution_count": 4,
   "metadata": {},
   "outputs": [
    {
     "name": "stdout",
     "output_type": "stream",
     "text": [
      "index: 251975921\n"
     ]
    },
    {
     "ename": "IndexError",
     "evalue": "tuple index out of range",
     "output_type": "error",
     "traceback": [
      "\u001b[1;31m---------------------------------------------------------------------------\u001b[0m",
      "\u001b[1;31mIndexError\u001b[0m                                Traceback (most recent call last)",
      "\u001b[1;32m<ipython-input-4-f65c1ea3e0dd>\u001b[0m in \u001b[0;36m<module>\u001b[1;34m\u001b[0m\n\u001b[0;32m      6\u001b[0m \u001b[1;32mfor\u001b[0m \u001b[0mrow\u001b[0m \u001b[1;32min\u001b[0m \u001b[0mcursor\u001b[0m\u001b[1;33m:\u001b[0m\u001b[1;33m\u001b[0m\u001b[1;33m\u001b[0m\u001b[0m\n\u001b[0;32m      7\u001b[0m     \u001b[0mprint\u001b[0m\u001b[1;33m(\u001b[0m\u001b[1;34m\"index:\"\u001b[0m\u001b[1;33m,\u001b[0m\u001b[0mrow\u001b[0m\u001b[1;33m[\u001b[0m\u001b[1;36m0\u001b[0m\u001b[1;33m]\u001b[0m\u001b[1;33m)\u001b[0m\u001b[1;33m;\u001b[0m\u001b[1;33m\u001b[0m\u001b[1;33m\u001b[0m\u001b[0m\n\u001b[1;32m----> 8\u001b[1;33m     \u001b[0mprint\u001b[0m\u001b[1;33m(\u001b[0m\u001b[1;34m\"mykey1:\"\u001b[0m\u001b[1;33m,\u001b[0m\u001b[0mrow\u001b[0m\u001b[1;33m[\u001b[0m\u001b[1;36m1\u001b[0m\u001b[1;33m]\u001b[0m\u001b[1;33m)\u001b[0m\u001b[1;33m;\u001b[0m\u001b[1;33m\u001b[0m\u001b[1;33m\u001b[0m\u001b[0m\n\u001b[0m\u001b[0;32m      9\u001b[0m     \u001b[0mprint\u001b[0m\u001b[1;33m(\u001b[0m\u001b[1;34m\"mykey2:\"\u001b[0m\u001b[1;33m,\u001b[0m\u001b[0mrow\u001b[0m\u001b[1;33m[\u001b[0m\u001b[1;36m2\u001b[0m\u001b[1;33m]\u001b[0m\u001b[1;33m)\u001b[0m\u001b[1;33m;\u001b[0m\u001b[1;33m\u001b[0m\u001b[1;33m\u001b[0m\u001b[0m\n\u001b[0;32m     10\u001b[0m     \u001b[0mprint\u001b[0m\u001b[1;33m(\u001b[0m\u001b[1;34m\"number:\"\u001b[0m\u001b[1;33m,\u001b[0m\u001b[0mrow\u001b[0m\u001b[1;33m[\u001b[0m\u001b[1;36m3\u001b[0m\u001b[1;33m]\u001b[0m\u001b[1;33m)\u001b[0m\u001b[1;33m;\u001b[0m\u001b[1;33m\u001b[0m\u001b[1;33m\u001b[0m\u001b[0m\n",
      "\u001b[1;31mIndexError\u001b[0m: tuple index out of range"
     ]
    }
   ],
   "source": [
    "#查詢資料===========\n",
    "import sqlite3\n",
    "#連接db(不存在自動創建)\n",
    "conn=sqlite3.connect('D:\\webapps\\kvm\\kcm2.db');\n",
    "sql_select=\"select mykey1,mykey2,number from mykcm where id=3  order by number desc limit 10\";\n",
    "cursor=conn.execute(sql_select);\n",
    "for row in cursor:\n",
    "    #print(\"index:\",row[0]);\n",
    "    print(\"mykey1:\",row[1]);\n",
    "    print(\"mykey2:\",row[2]);\n",
    "    print(\"number:\",row[3]);\n",
    "    print('---'*30);\n",
    "conn.close;"
   ]
  },
  {
   "cell_type": "code",
   "execution_count": null,
   "metadata": {},
   "outputs": [],
   "source": [
    "#刪除資料===========\n",
    "import sqlite3\n",
    "#連接db(不存在自動創建)\n",
    "conn=sqlite3.connect('D:\\webapps\\kvm\\kcm2.db');\n",
    "sql_delete=\"delete from mykcm where number=1\";\n",
    "\n",
    "conn.execute(sql_delete);\n",
    "conn.commit();\n",
    "conn.close;\n",
    "print(\"資料刪除成功\");"
   ]
  },
  {
   "cell_type": "code",
   "execution_count": null,
   "metadata": {},
   "outputs": [],
   "source": []
  }
 ],
 "metadata": {
  "kernelspec": {
   "display_name": "Python 3",
   "language": "python",
   "name": "python3"
  },
  "language_info": {
   "codemirror_mode": {
    "name": "ipython",
    "version": 3
   },
   "file_extension": ".py",
   "mimetype": "text/x-python",
   "name": "python",
   "nbconvert_exporter": "python",
   "pygments_lexer": "ipython3",
   "version": "3.7.3"
  }
 },
 "nbformat": 4,
 "nbformat_minor": 2
}
